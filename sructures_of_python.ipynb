{
  "nbformat": 4,
  "nbformat_minor": 0,
  "metadata": {
    "colab": {
      "provenance": [],
      "authorship_tag": "ABX9TyMH51A94RKgV7fwk+xyafJi",
      "include_colab_link": true
    },
    "kernelspec": {
      "name": "python3",
      "display_name": "Python 3"
    },
    "language_info": {
      "name": "python"
    }
  },
  "cells": [
    {
      "cell_type": "markdown",
      "metadata": {
        "id": "view-in-github",
        "colab_type": "text"
      },
      "source": [
        "<a href=\"https://colab.research.google.com/github/Logshi/Python/blob/main/sructures_of_python.ipynb\" target=\"_parent\"><img src=\"https://colab.research.google.com/assets/colab-badge.svg\" alt=\"Open In Colab\"/></a>"
      ]
    },
    {
      "cell_type": "markdown",
      "source": [
        "# **Polymorphism in Python**\n",
        "* Polymorphism is the condition of occurrence in different forms.\n",
        "* It refers to the use of a single type entity(method, operator or object) to represent different types in different scenarios."
      ],
      "metadata": {
        "id": "Xu-Paaxrfn4n"
      }
    },
    {
      "cell_type": "code",
      "source": [
        "#Example 1: Polymorphısm ın addıtıon operator.\n",
        "num1 = 10\n",
        "num2 = 20\n",
        "print(num1 + num2)"
      ],
      "metadata": {
        "colab": {
          "base_uri": "https://localhost:8080/"
        },
        "id": "tfasShpghT04",
        "outputId": "06cd7f7d-5871-45e6-f590-fed441a53c19"
      },
      "execution_count": 2,
      "outputs": [
        {
          "output_type": "stream",
          "name": "stdout",
          "text": [
            "30\n"
          ]
        }
      ]
    },
    {
      "cell_type": "code",
      "source": [
        "str1 = \"Hello\"\n",
        "str2 = \"World\"\n",
        "print(str1 + \" \"+ str2)"
      ],
      "metadata": {
        "colab": {
          "base_uri": "https://localhost:8080/"
        },
        "id": "xSvCcko4hmtQ",
        "outputId": "b460dbe4-5dab-4c84-dfd6-4929e2b8601a"
      },
      "execution_count": 4,
      "outputs": [
        {
          "output_type": "stream",
          "name": "stdout",
          "text": [
            "Hello World\n"
          ]
        }
      ]
    },
    {
      "cell_type": "code",
      "source": [
        "# Exeample 2: Polymorphıc len() functıon\n",
        "print(len(\"Hello\"))\n",
        "print(len([1,2,3,4,5]))\n",
        "print(len([\"Pyhton\",\"Java\",\"C\"]))\n",
        "print(len({\"Name\":\"Sirvan\", \"Adress\":\"Izmir\" }))"
      ],
      "metadata": {
        "colab": {
          "base_uri": "https://localhost:8080/"
        },
        "id": "-3IqPvDehtog",
        "outputId": "cf83a0b8-ef75-44b2-fe5a-1ddd0ffb838b"
      },
      "execution_count": 5,
      "outputs": [
        {
          "output_type": "stream",
          "name": "stdout",
          "text": [
            "5\n",
            "5\n",
            "3\n",
            "2\n"
          ]
        }
      ]
    },
    {
      "cell_type": "code",
      "source": [
        "#Example 3: Polymorphism in Class Methods\n",
        "class Cat:\n",
        "  def __init__(self, name, age):\n",
        "    self.name = name\n",
        "    self.age = age\n",
        "\n",
        "  def info(self):\n",
        "    print(f\"I am a cat. My name is {self.name}. I am {self.age} years old.\")\n",
        "  def make_sound(self):\n",
        "    print(\"Meow\")\n",
        "\n",
        "class Dog:\n",
        "  def __init__(self, name, age):\n",
        "    self.name = name\n",
        "    self.age = age\n",
        "  def info(self):\n",
        "    print(f\"I am a dog. My name is {self.name}. I am {self.age} years old\")\n",
        "  def make_sound(self):\n",
        "    print(\"Bark\")\n",
        "\n",
        "cat1 = Cat(\"Simba\", 5)\n",
        "dog1 = Dog(\"Whiskers\", 3)\n",
        "\n",
        "for animal in (cat1, dog1):\n",
        "  animal.make_sound()\n",
        "  animal.info()\n",
        "  animal.make_sound()"
      ],
      "metadata": {
        "colab": {
          "base_uri": "https://localhost:8080/"
        },
        "id": "FKq6M72Iiu93",
        "outputId": "5bd2455f-f5ce-4b54-b013-3684f3454fe0"
      },
      "execution_count": 8,
      "outputs": [
        {
          "output_type": "stream",
          "name": "stdout",
          "text": [
            "Meow\n",
            "I am a cat. My name is Simba. I am 5 years old.\n",
            "Meow\n",
            "Bark\n",
            "I am a dog. My name is Whiskers. I am 3 years old\n",
            "Bark\n"
          ]
        }
      ]
    },
    {
      "cell_type": "code",
      "source": [
        "#Example 4: Method Overriding\n",
        "from math import pi\n",
        "class Shape:\n",
        "  def __init__(self,name):\n",
        "    self.name = name\n",
        "  def area(self):\n",
        "    pass\n",
        "  def fact(self):\n",
        "    return \"I am a two-simensioanal shape.\"\n",
        "  def __str__(self):\n",
        "    return self.name\n",
        "\n",
        "class Square(Shape):\n",
        "  def __init__(self, length):\n",
        "    self.length = length\n",
        "  def area(self):\n",
        "    return self.length **2\n",
        "  def fact(self):\n",
        "    return \"Squares have each angle equal to 90 degrees.\"\n",
        "class Circle(Shape):\n",
        "  def __init__(self, radius):\n",
        "    super().__init__(\"Circle\")\n",
        "    self.radius = radius\n",
        "  def area(self):\n",
        "    return pi*self.radius**2\n",
        "  def fact(self):\n",
        "    return \"Circles have no angle.\"\n",
        "\n",
        "a = Square(5)\n",
        "b = Circle(3)\n",
        "print(b)\n",
        "print(a.area())\n",
        "print(b.area())\n",
        "print(a.fact())\n",
        "print(b.fact())\n",
        "\n"
      ],
      "metadata": {
        "colab": {
          "base_uri": "https://localhost:8080/"
        },
        "id": "9cWlemujjkuO",
        "outputId": "d8da8148-1a71-43f8-de95-74689ad24756"
      },
      "execution_count": 12,
      "outputs": [
        {
          "output_type": "stream",
          "name": "stdout",
          "text": [
            "Circle\n",
            "25\n",
            "28.274333882308138\n",
            "Squares have each angle equal to 90 degrees.\n",
            "Circles have no angle.\n"
          ]
        }
      ]
    }
  ]
}